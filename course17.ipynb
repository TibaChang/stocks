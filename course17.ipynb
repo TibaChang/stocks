{
 "cells": [
  {
   "cell_type": "code",
   "execution_count": 1,
   "metadata": {},
   "outputs": [],
   "source": [
    "from finlab.data import Data\n",
    "data = Data()"
   ]
  },
  {
   "cell_type": "markdown",
   "metadata": {},
   "source": [
    "# 條件一：公司的市值"
   ]
  },
  {
   "cell_type": "code",
   "execution_count": 2,
   "metadata": {},
   "outputs": [],
   "source": [
    "# 先拿出計算市值需要用到的財務數據\n",
    "\n",
    "股本 = data.get('股本合計', 1)\n",
    "price = data.get('收盤價', 100)"
   ]
  },
  {
   "cell_type": "code",
   "execution_count": 3,
   "metadata": {},
   "outputs": [
    {
     "data": {
      "text/plain": [
       "202235243670.0"
      ]
     },
     "execution_count": 3,
     "metadata": {},
     "output_type": "execute_result"
    }
   ],
   "source": [
    "\n",
    "# ----------- #\n",
    "# 找出當天股價  #\n",
    "# ----------- #\n",
    "\n",
    "# 新版（較簡單）：將頻率為「天」的股價，reindex 成每「季」\n",
    "# method='ffill'是說，假如公佈財報那天沒有股價，則以時間往前最接近的那天為主。\n",
    "\n",
    "當天股價 = price.reindex(股本.index, method='ffill').iloc[-1]\n",
    "\n",
    "# 原本（較難）：\n",
    "#當天股價 = price.loc[:股本.index[0]].iloc[-1]\n",
    "\n",
    "# ----------- #\n",
    "# 找出當天股本  #\n",
    "# ----------- #\n",
    "\n",
    "當天股本 = 股本.iloc[-1]\n",
    "\n",
    "# -----------  #\n",
    "# 計算市值      #\n",
    "# -----------  #\n",
    "\n",
    "# 市值 = 總股數 * 股價\n",
    "#     = （股本 * 1000） / 10 * 股價\n",
    "\n",
    "市值 = 當天股本 * 1000 / 10 * 當天股價\n",
    "市值['1101']"
   ]
  },
  {
   "cell_type": "markdown",
   "metadata": {},
   "source": [
    "# 條件二：自由現金流"
   ]
  },
  {
   "cell_type": "code",
   "execution_count": 4,
   "metadata": {},
   "outputs": [
    {
     "data": {
      "text/plain": [
       "count    1.679000e+03\n",
       "mean     1.956888e+05\n",
       "std      1.196872e+07\n",
       "min     -2.120380e+08\n",
       "25%     -7.836000e+03\n",
       "50%      0.000000e+00\n",
       "75%      5.453850e+04\n",
       "max      3.491593e+08\n",
       "dtype: float64"
      ]
     },
     "execution_count": 4,
     "metadata": {},
     "output_type": "execute_result"
    }
   ],
   "source": [
    "import pandas as pd\n",
    "\n",
    "# 將每季累計的財務數據，轉換成單季\n",
    "def toSeasonal(df):\n",
    "    season4 = df[df.index.month == 3]\n",
    "    season1 = df[df.index.month == 5]\n",
    "    season2 = df[df.index.month == 8]\n",
    "    season3 = df[df.index.month == 11]\n",
    "\n",
    "    season1.index = season1.index.year\n",
    "    season2.index = season2.index.year\n",
    "    season3.index = season3.index.year\n",
    "    season4.index = season4.index.year - 1\n",
    "\n",
    "    newseason1 = season1\n",
    "    newseason2 = season2 - season1.reindex_like(season2)\n",
    "    newseason3 = season3 - season2.reindex_like(season3)\n",
    "    newseason4 = season4 - season3.reindex_like(season4)\n",
    "\n",
    "    newseason1.index = pd.to_datetime(newseason1.index.astype(str) + '-05-15')\n",
    "    newseason2.index = pd.to_datetime(newseason2.index.astype(str) + '-08-14')\n",
    "    newseason3.index = pd.to_datetime(newseason3.index.astype(str) + '-11-14')\n",
    "    newseason4.index = pd.to_datetime((newseason4.index + 1).astype(str) + '-03-31')\n",
    "\n",
    "    return newseason1.append(newseason2).append(newseason3).append(newseason4).sort_index()\n",
    "    \n",
    "# 計算自由現金流 = 營業活動之淨現金流入 - 投資活動之淨現金流出\n",
    "投資現金流 = toSeasonal(data.get('投資活動之淨現金流入（流出）', 8))\n",
    "營業現金流 = toSeasonal(data.get('營業活動之淨現金流入（流出）', 8))\n",
    "自由現金流 = (投資現金流 + 營業現金流).iloc[-4:].sum()\n",
    "自由現金流.describe()"
   ]
  },
  {
   "cell_type": "markdown",
   "metadata": {},
   "source": [
    "# 條件三：股東權益報酬率"
   ]
  },
  {
   "cell_type": "code",
   "execution_count": 5,
   "metadata": {},
   "outputs": [
    {
     "data": {
      "text/plain": [
       "count    1660.000000\n",
       "mean        0.017489\n",
       "std         0.099757\n",
       "min        -2.828003\n",
       "25%         0.002700\n",
       "50%         0.020646\n",
       "75%         0.040859\n",
       "max         0.864365\n",
       "Name: 2018-08-14 00:00:00, dtype: float64"
      ]
     },
     "execution_count": 5,
     "metadata": {},
     "output_type": "execute_result"
    }
   ],
   "source": [
    "稅後淨利 = data.get('本期淨利（淨損）', 1)\n",
    "\n",
    "# 修正：因為有些股東權益的名稱叫作「權益總計」有些叫作「權益總額」，所以要先將這兩個dataframe合併起來喔！\n",
    "權益總計 = data.get('權益總計', 1)\n",
    "權益總額 = data.get('權益總額', 1)\n",
    "\n",
    "# 把它們合併起來（將「權益總計」為NaN的部分填上「權益總額」）\n",
    "權益總計.fillna(權益總額, inplace=True)\n",
    "\n",
    "股東權益報酬率 = 稅後淨利.iloc[-1] / 權益總計.iloc[-1]\n",
    "股東權益報酬率.describe()"
   ]
  },
  {
   "cell_type": "markdown",
   "metadata": {},
   "source": [
    "# 條件四：營業利益成長率"
   ]
  },
  {
   "cell_type": "code",
   "execution_count": 6,
   "metadata": {},
   "outputs": [
    {
     "data": {
      "text/plain": [
       "count    8.040000e+02\n",
       "mean              inf\n",
       "std               NaN\n",
       "min     -2.936714e+04\n",
       "25%     -4.528482e+01\n",
       "50%      2.009235e-02\n",
       "75%      6.099429e+01\n",
       "max               inf\n",
       "dtype: float64"
      ]
     },
     "execution_count": 6,
     "metadata": {},
     "output_type": "execute_result"
    }
   ],
   "source": [
    "# 影片中打錯了，這裡才是對的喔！\n",
    "營業利益 = data.get('營業利益（損失）', 5)\n",
    "營業利益成長率 = (營業利益.iloc[-1] / 營業利益.iloc[-5] - 1) * 100\n",
    "營業利益成長率.describe()"
   ]
  },
  {
   "cell_type": "markdown",
   "metadata": {},
   "source": [
    "# 條件五：市值營收比"
   ]
  },
  {
   "cell_type": "code",
   "execution_count": 7,
   "metadata": {},
   "outputs": [
    {
     "data": {
      "text/plain": [
       "count    905.000000\n",
       "mean            inf\n",
       "std             NaN\n",
       "min        0.126132\n",
       "25%        1.885211\n",
       "50%        3.272199\n",
       "75%        6.209715\n",
       "max             inf\n",
       "dtype: float64"
      ]
     },
     "execution_count": 7,
     "metadata": {},
     "output_type": "execute_result"
    }
   ],
   "source": [
    "%matplotlib inline\n",
    "當月營收 = data.get('當月營收', 4) * 1000\n",
    "當季營收 = 當月營收.iloc[-4:].sum() # 取近4個月營收總和，當作一季的月營收（4也可以改變）\n",
    "市值營收比 = 市值 / 當季營收\n",
    "市值營收比.describe()"
   ]
  },
  {
   "cell_type": "markdown",
   "metadata": {},
   "source": [
    "# 結合上述五個條件選股"
   ]
  },
  {
   "cell_type": "code",
   "execution_count": 8,
   "metadata": {},
   "outputs": [
    {
     "data": {
      "text/plain": [
       "stock_id\n",
       "1109    True\n",
       "1233    True\n",
       "1413    True\n",
       "1441    True\n",
       "1454    True\n",
       "1514    True\n",
       "1558    True\n",
       "1604    True\n",
       "1614    True\n",
       "1616    True\n",
       "1701    True\n",
       "1712    True\n",
       "1714    True\n",
       "1725    True\n",
       "1727    True\n",
       "2012    True\n",
       "2228    True\n",
       "2321    True\n",
       "2365    True\n",
       "2368    True\n",
       "2397    True\n",
       "2423    True\n",
       "2425    True\n",
       "2464    True\n",
       "2471    True\n",
       "2480    True\n",
       "2484    True\n",
       "2499    True\n",
       "2535    True\n",
       "2597    True\n",
       "2614    True\n",
       "2852    True\n",
       "3014    True\n",
       "3047    True\n",
       "3167    True\n",
       "3419    True\n",
       "3545    True\n",
       "3583    True\n",
       "3701    True\n",
       "3708    True\n",
       "4536    True\n",
       "4764    True\n",
       "4942    True\n",
       "4999    True\n",
       "5525    True\n",
       "6108    True\n",
       "6139    True\n",
       "6192    True\n",
       "6230    True\n",
       "6278    True\n",
       "6281    True\n",
       "8021    True\n",
       "8081    True\n",
       "8110    True\n",
       "8271    True\n",
       "8374    True\n",
       "9905    True\n",
       "9911    True\n",
       "dtype: bool"
      ]
     },
     "execution_count": 8,
     "metadata": {},
     "output_type": "execute_result"
    }
   ],
   "source": [
    "condition1 = (市值 < 10000000000)\n",
    "condition2 = 自由現金流 > 0\n",
    "condition3 = 股東權益報酬率 > 0\n",
    "condition4 = 營業利益成長率 > 0\n",
    "condition5 = 市值營收比 < 5\n",
    "\n",
    "# 將條件做交集（&）\n",
    "select_stock = condition1 & condition2 & condition3 & condition4 & condition5 \n",
    "\n",
    "# 選出的股票\n",
    "select_stock[select_stock]"
   ]
  },
  {
   "cell_type": "markdown",
   "metadata": {},
   "source": [
    "# 綜合上述，優等生策略：mystrategy"
   ]
  },
  {
   "cell_type": "code",
   "execution_count": 9,
   "metadata": {},
   "outputs": [],
   "source": [
    "import pandas as pd\n",
    "\n",
    "def mystrategy(data):\n",
    "    \n",
    "    股本 = data.get('股本合計', 1)\n",
    "    price = data.get('收盤價', 120)\n",
    "    當天股價 = price[:股本.index[-1]].iloc[-1]\n",
    "    當天股本 = 股本.iloc[-1]\n",
    "    市值 = 當天股本 * 當天股價 / 10 * 1000\n",
    "   \n",
    "\n",
    "    df1 = toSeasonal(data.get('投資活動之淨現金流入（流出）', 5))\n",
    "    df2 = toSeasonal(data.get('營業活動之淨現金流入（流出）', 5))\n",
    "    自由現金流 = (df1 + df2).iloc[-4:].mean()\n",
    "    \n",
    "    \n",
    "    稅後淨利 = data.get('本期淨利（淨損）', 1)\n",
    "    \n",
    "    # 股東權益，有兩個名稱，有些公司叫做權益總計，有些叫做權益總額\n",
    "    # 所以得把它們抓出來\n",
    "    權益總計 = data.get('權益總計', 1)\n",
    "    權益總額 = data.get('權益總額', 1)\n",
    "    \n",
    "    # 並且把它們合併起來\n",
    "    權益總計.fillna(權益總額, inplace=True)\n",
    "        \n",
    "    股東權益報酬率 = 稅後淨利.iloc[-1] / 權益總計.iloc[-1]\n",
    "    \n",
    "    \n",
    "    營業利益 = data.get('營業利益（損失）', 5)\n",
    "    營業利益成長率 = (營業利益.iloc[-1] / 營業利益.iloc[-5] - 1) * 100\n",
    "    \n",
    "    \n",
    "    當月營收 = data.get('當月營收', 4) * 1000\n",
    "    當季營收 = 當月營收.iloc[-4:].sum()\n",
    "    市值營收比 = 市值 / 當季營收\n",
    "    \n",
    "    \n",
    "    condition1 = (市值 < 1e10)\n",
    "    condition2 = 自由現金流 > 0\n",
    "    condition3 = 股東權益報酬率 > 0\n",
    "    condition4 = 營業利益成長率 > 0\n",
    "    condition5 = 市值營收比 < 5\n",
    "    \n",
    "    select_stock = condition1 & condition2 & condition3 & condition4 & condition5\n",
    "    \n",
    "    return select_stock[select_stock]\n"
   ]
  },
  {
   "cell_type": "markdown",
   "metadata": {},
   "source": [
    "# 回測"
   ]
  },
  {
   "cell_type": "code",
   "execution_count": 10,
   "metadata": {},
   "outputs": [
    {
     "name": "stdout",
     "output_type": "stream",
     "text": [
      "2017-01-01 - 2017-03-02 報酬率: 7.40 % nstock 127\n",
      "2017-03-02 - 2017-05-01 報酬率: 2.09 % nstock 126\n",
      "2017-05-01 - 2017-06-30 報酬率: 2.46 % nstock 102\n",
      "2017-06-30 - 2017-08-29 報酬率: 4.69 % nstock 83\n",
      "2017-08-29 - 2017-10-28 報酬率: 5.49 % nstock 82\n",
      "2017-10-28 - 2017-12-27 報酬率: 3.12 % nstock 82\n",
      "2017-12-27 - 2018-02-25 報酬率: 1.93 % nstock 84\n",
      "2018-02-25 - 2018-04-26 報酬率: 1.52 % nstock 82\n",
      "每次換手最大報酬 : 7.40 ％\n",
      "每次換手最少報酬 : 1.52 ％\n"
     ]
    },
    {
     "data": {
      "image/png": "[encoded data removed]",
      "text/plain": [
       "<Figure size 432x288 with 1 Axes>"
      ]
     },
     "metadata": {
      "needs_background": "light"
     },
     "output_type": "display_data"
    },
    {
     "data": {
      "image/png": "[encoded data removed]",
      "text/plain": [
       "<Figure size 432x288 with 1 Axes>"
      ]
     },
     "metadata": {
      "needs_background": "light"
     },
     "output_type": "display_data"
    },
    {
     "data": {
      "text/plain": [
       "(2017-01-04    1.000000\n",
       " 2017-01-05    1.006241\n",
       " 2017-01-06    1.009988\n",
       " 2017-01-09    1.004098\n",
       " 2017-01-10    1.002802\n",
       " 2017-01-11    1.002262\n",
       " 2017-01-12    1.004416\n",
       " 2017-01-13    1.005140\n",
       " 2017-01-16    0.998278\n",
       " 2017-01-17    1.003211\n",
       " 2017-01-18    1.008285\n",
       " 2017-01-19    1.009928\n",
       " 2017-01-20    1.009556\n",
       " 2017-01-23    1.012826\n",
       " 2017-01-24    1.014618\n",
       " 2017-02-02    1.025163\n",
       " 2017-02-03    1.034065\n",
       " 2017-02-06    1.042286\n",
       " 2017-02-07    1.043727\n",
       " 2017-02-08    1.045739\n",
       " 2017-02-09    1.046101\n",
       " 2017-02-10    1.048853\n",
       " 2017-02-13    1.053477\n",
       " 2017-02-14    1.056533\n",
       " 2017-02-15    1.062483\n",
       " 2017-02-16    1.061178\n",
       " 2017-02-17    1.067931\n",
       " 2017-02-18    1.075381\n",
       " 2017-02-20    1.078084\n",
       " 2017-02-21    1.076289\n",
       "                 ...   \n",
       " 2018-01-17    1.327210\n",
       " 2018-01-18    1.322244\n",
       " 2018-01-19    1.319612\n",
       " 2018-01-22    1.322394\n",
       " 2018-01-23    1.318934\n",
       " 2018-01-24    1.324492\n",
       " 2018-01-25    1.317191\n",
       " 2018-01-26    1.315492\n",
       " 2018-01-29    1.317514\n",
       " 2018-01-30    1.303256\n",
       " 2018-01-31    1.309672\n",
       " 2018-02-01    1.312120\n",
       " 2018-02-02    1.308604\n",
       " 2018-02-05    1.294315\n",
       " 2018-02-06    1.226281\n",
       " 2018-02-07    1.248279\n",
       " 2018-02-08    1.250155\n",
       " 2018-02-09    1.242987\n",
       " 2018-02-12    1.252630\n",
       " 2018-02-21    1.280704\n",
       " 2018-02-22    1.293455\n",
       " 2018-02-23    1.304116\n",
       " 2018-02-27    1.304116\n",
       " 2018-03-01    1.315101\n",
       " 2018-03-02    1.310675\n",
       " 2018-03-05    1.302360\n",
       " 2018-03-06    1.313443\n",
       " 2018-03-07    1.311030\n",
       " 2018-03-08    1.322066\n",
       " 2018-03-09    1.323903\n",
       " Length: 284, dtype: float64,\n",
       "            buy_date  buy_price  highest_price  lowest_price  profit(%)  \\\n",
       " stock_id                                                                 \n",
       " 1203     2017-01-04      22.90          24.35         22.85   4.366812   \n",
       " 1218     2017-01-04      15.05          15.65         14.90   0.332226   \n",
       " 1231     2017-01-04      32.00          32.55         31.65  -0.468750   \n",
       " 1310     2017-01-04      19.90          24.15         19.40  11.055276   \n",
       " 1323     2017-01-04      34.10          34.35         32.60  -0.146628   \n",
       " 1452     2017-01-04      20.85          22.90         20.30   3.117506   \n",
       " 1460     2017-01-04      17.10          17.70         16.60   0.000000   \n",
       " 1474     2017-01-04      11.35          11.60         11.15   0.440529   \n",
       " 1519     2017-01-04      17.90          18.50         17.40  -2.793296   \n",
       " 1522     2017-01-04      35.70          37.00         35.20   1.120448   \n",
       " 1524     2017-01-04      11.10          12.00         10.80   6.756757   \n",
       " 1526     2017-01-04      15.00          15.80         14.55  -0.666667   \n",
       " 1533     2017-01-04      43.00          46.90         41.55   1.511628   \n",
       " 1558     2017-01-04     160.00         163.50        157.00  -1.875000   \n",
       " 1560     2017-01-04      63.20          80.10         62.00  23.892405   \n",
       " 1568     2017-01-04      32.80          34.45         31.00  -3.658537   \n",
       " 1582     2017-01-04      62.90          64.30         61.20  -0.953895   \n",
       " 1603     2017-01-04      22.20          28.70         21.15  23.873874   \n",
       " 1604     2017-01-04      18.55          19.10         18.15   0.808625   \n",
       " 1614     2017-01-04      24.05          27.80         24.05  10.602911   \n",
       " 1615     2017-01-04      10.15          11.85         10.15  14.285714   \n",
       " 1617     2017-01-04       7.58           8.69          7.58  10.290237   \n",
       " 1701     2017-01-04      18.20          20.30         18.00   8.791209   \n",
       " 1720     2017-01-04      32.90          34.30         32.20   3.799392   \n",
       " 1721     2017-01-04      15.10          16.65         14.80   3.973510   \n",
       " 1724     2017-01-04      16.75          17.00         16.30   0.597015   \n",
       " 1725     2017-01-04      13.90          14.80         13.80   4.316547   \n",
       " 1730     2017-01-04      38.05          39.70         38.05   4.204993   \n",
       " 1735     2017-01-04      12.40          12.85         12.35   2.419355   \n",
       " 1773     2017-01-04      54.70          57.90         54.00   5.301645   \n",
       " ...             ...        ...            ...           ...        ...   \n",
       " 3437     2018-02-27      32.20          32.20         31.20  -0.621118   \n",
       " 3583     2018-02-27      74.70          74.80         71.90  -3.748327   \n",
       " 3679     2018-02-27      72.00          73.50         70.40   2.083333   \n",
       " 3704     2018-02-27      14.95          15.15         14.75   1.337793   \n",
       " 4104     2018-02-27      44.90          45.35         44.70   1.002227   \n",
       " 4722     2018-02-27      33.85          34.00         33.55  -0.295421   \n",
       " 4755     2018-02-27      51.00          55.50         50.60   8.431373   \n",
       " 4916     2018-02-27      33.15          34.60         33.15   4.374057   \n",
       " 5234     2018-02-27      89.10          95.90         88.20   7.631874   \n",
       " 5515     2018-02-27      10.85          11.50         10.85   5.529954   \n",
       " 5533     2018-02-27      16.05          16.05         15.80  -1.557632   \n",
       " 5607     2018-02-27      18.50          20.65         18.50   7.027027   \n",
       " 6112     2018-02-27      31.55          31.90         31.30   1.109350   \n",
       " 6141     2018-02-27      21.90          24.40         21.90  11.415525   \n",
       " 6168     2018-02-27      20.25          21.85         20.10   7.901235   \n",
       " 6189     2018-02-27      28.75          28.75         28.35  -1.391304   \n",
       " 6230     2018-02-27      93.50          95.50         92.50  -1.069519   \n",
       " 6235     2018-02-27      20.55          20.55         19.35  -4.622871   \n",
       " 6281     2018-02-27      64.10          65.10         64.10   1.560062   \n",
       " 6405     2018-02-27      23.90          24.00         23.05  -0.627615   \n",
       " 6531     2018-02-27      94.40         108.50         92.50   7.521186   \n",
       " 8039     2018-02-27      48.80          48.80         45.10  -7.581967   \n",
       " 8110     2018-02-27      14.05          14.30         13.70   1.779359   \n",
       " 8163     2018-02-27      29.80          32.00         29.80   3.691275   \n",
       " 8213     2018-02-27      30.10          30.10         29.25  -1.162791   \n",
       " 8374     2018-02-27      29.00          29.70         28.55   0.862069   \n",
       " 9911     2018-02-27      37.75          37.75         37.00  -1.059603   \n",
       " 9919     2018-02-27      12.30          12.45         12.00  -2.439024   \n",
       " 9927     2018-02-27      39.80          40.00         39.50  -0.753769   \n",
       " 9934     2018-02-27      19.50          20.25         19.40   3.846154   \n",
       " \n",
       "           sell_date  sell_price  \n",
       " stock_id                         \n",
       " 1203     2017-03-02       23.90  \n",
       " 1218     2017-03-02       15.10  \n",
       " 1231     2017-03-02       31.85  \n",
       " 1310     2017-03-02       22.10  \n",
       " 1323     2017-03-02       34.05  \n",
       " 1452     2017-03-02       21.50  \n",
       " 1460     2017-03-02       17.10  \n",
       " 1474     2017-03-02       11.40  \n",
       " 1519     2017-03-02       17.40  \n",
       " 1522     2017-03-02       36.10  \n",
       " 1524     2017-03-02       11.85  \n",
       " 1526     2017-03-02       14.90  \n",
       " 1533     2017-03-02       43.65  \n",
       " 1558     2017-03-02      157.00  \n",
       " 1560     2017-03-02       78.30  \n",
       " 1568     2017-03-02       31.60  \n",
       " 1582     2017-03-02       62.30  \n",
       " 1603     2017-03-02       27.50  \n",
       " 1604     2017-03-02       18.70  \n",
       " 1614     2017-03-02       26.60  \n",
       " 1615     2017-03-02       11.60  \n",
       " 1617     2017-03-02        8.36  \n",
       " 1701     2017-03-02       19.80  \n",
       " 1720     2017-03-02       34.15  \n",
       " 1721     2017-03-02       15.70  \n",
       " 1724     2017-03-02       16.85  \n",
       " 1725     2017-03-02       14.50  \n",
       " 1730     2017-03-02       39.65  \n",
       " 1735     2017-03-02       12.70  \n",
       " 1773     2017-03-02       57.60  \n",
       " ...             ...         ...  \n",
       " 3437     2018-03-09       32.00  \n",
       " 3583     2018-03-09       71.90  \n",
       " 3679     2018-03-09       73.50  \n",
       " 3704     2018-03-09       15.15  \n",
       " 4104     2018-03-09       45.35  \n",
       " 4722     2018-03-09       33.75  \n",
       " 4755     2018-03-09       55.30  \n",
       " 4916     2018-03-09       34.60  \n",
       " 5234     2018-03-09       95.90  \n",
       " 5515     2018-03-09       11.45  \n",
       " 5533     2018-03-09       15.80  \n",
       " 5607     2018-03-09       19.80  \n",
       " 6112     2018-03-09       31.90  \n",
       " 6141     2018-03-09       24.40  \n",
       " 6168     2018-03-09       21.85  \n",
       " 6189     2018-03-09       28.35  \n",
       " 6230     2018-03-09       92.50  \n",
       " 6235     2018-03-09       19.60  \n",
       " 6281     2018-03-09       65.10  \n",
       " 6405     2018-03-09       23.75  \n",
       " 6531     2018-03-09      101.50  \n",
       " 8039     2018-03-09       45.10  \n",
       " 8110     2018-03-09       14.30  \n",
       " 8163     2018-03-09       30.90  \n",
       " 8213     2018-03-09       29.75  \n",
       " 8374     2018-03-09       29.25  \n",
       " 9911     2018-03-09       37.35  \n",
       " 9919     2018-03-09       12.00  \n",
       " 9927     2018-03-09       39.50  \n",
       " 9934     2018-03-09       20.25  \n",
       " \n",
       " [767 rows x 7 columns])"
      ]
     },
     "execution_count": 10,
     "metadata": {},
     "output_type": "execute_result"
    },
    {
     "data": {
      "image/png": "[encoded data removed]",
      "text/plain": [
       "<Figure size 432x288 with 1 Axes>"
      ]
     },
     "metadata": {
      "needs_background": "light"
     },
     "output_type": "display_data"
    }
   ],
   "source": [
    "from finlab.backtest import backtest\n",
    "from finlab.data import Data\n",
    "import datetime\n",
    "\n",
    "%matplotlib inline\n",
    "data = Data()\n",
    "backtest(datetime.date(2017,1,1), datetime.date(2018,3,10), 60, mystrategy, data)"
   ]
  },
  {
   "cell_type": "code",
   "execution_count": null,
   "metadata": {},
   "outputs": [],
   "source": []
  }
 ],
 "metadata": {
  "kernelspec": {
   "display_name": "Python 3",
   "language": "python",
   "name": "python3"
  },
  "language_info": {
   "codemirror_mode": {
    "name": "ipython",
    "version": 3
   },
   "file_extension": ".py",
   "mimetype": "text/x-python",
   "name": "python",
   "nbconvert_exporter": "python",
   "pygments_lexer": "ipython3",
   "version": "3.7.0"
  }
 },
 "nbformat": 4,
 "nbformat_minor": 2
}
