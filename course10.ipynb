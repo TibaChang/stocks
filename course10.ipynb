{
 "cells": [
  {
   "cell_type": "code",
   "execution_count": 1,
   "metadata": {},
   "outputs": [
    {
     "data": {
      "application/vnd.jupyter.widget-view+json": {
       "model_id": "39958ac49ee3405e904bf56b082943af",
       "version_major": 2,
       "version_minor": 0
      },
      "text/plain": [
       "VBox(children=(Label(value='price (from 2013-01-02 to 2018-11-23)'), HBox(children=(DatePicker(value=datetime.…"
      ]
     },
     "metadata": {},
     "output_type": "display_data"
    },
    {
     "data": {
      "application/vnd.jupyter.widget-view+json": {
       "model_id": "102a8faa72364e9fbf094f0e3d421146",
       "version_major": 2,
       "version_minor": 0
      },
      "text/plain": [
       "VBox(children=(Label(value='monthly_revenue (from 2005-02-10 to 2018-11-10)'), HBox(children=(DatePicker(value…"
      ]
     },
     "metadata": {},
     "output_type": "display_data"
    },
    {
     "data": {
      "application/vnd.jupyter.widget-view+json": {
       "model_id": "55fd6901faf44de0be23f011cfa254d0",
       "version_major": 2,
       "version_minor": 0
      },
      "text/plain": [
       "VBox(children=(Label(value='finance_statement (No table found)(對於finance_statement是正常情況)'), HBox(children=(Dat…"
      ]
     },
     "metadata": {},
     "output_type": "display_data"
    },
    {
     "name": "stdout",
     "output_type": "stream",
     "text": [
      "start crawl finance_statement from  2018-03-31 to 2018-11-14\n"
     ]
    },
    {
     "data": {
      "application/vnd.jupyter.widget-view+json": {
       "model_id": "d332ff6e58794f7b8eecffe16ef43828",
       "version_major": 2,
       "version_minor": 0
      },
      "text/plain": [
       "HBox(children=(IntProgress(value=0, max=4), HTML(value='')))"
      ]
     },
     "metadata": {},
     "output_type": "display_data"
    },
    {
     "name": "stdout",
     "output_type": "stream",
     "text": [
      "crawling 2018-03-31\n",
      "http://mops.twse.com.tw/nas/t21/sii/t21sc03_106_11.html\n"
     ]
    },
    {
     "name": "stderr",
     "output_type": "stream",
     "text": [
      "parse htmls 2017 season 4 stock 912398: 100%|██████████| 918/918 [01:28<00:00, 10.42it/s]\n",
      "parse htmls 2017 season 4 stock 912398: 100%|██████████| 918/918 [01:35<00:00,  9.60it/s]\n",
      "parse htmls 2017 season 4 stock 912398: 100%|██████████| 918/918 [01:30<00:00, 10.16it/s]\n",
      "parse htmls 2017 season 4 stock 912398:  96%|█████████▌| 879/918 [01:02<05:50,  8.98s/it]"
     ]
    },
    {
     "name": "stdout",
     "output_type": "stream",
     "text": [
      "**WARRN: requests cannot get stock 912398 .html\n"
     ]
    },
    {
     "name": "stderr",
     "output_type": "stream",
     "text": [
      "parse htmls 2017 season 4 stock 912398: 100%|██████████| 918/918 [01:28<00:00, 10.32it/s]\n",
      "parse htmls 2017 season 4 stock 912398: 100%|██████████| 918/918 [01:41<00:00,  9.03it/s]\n",
      "parse htmls 2017 season 4 stock 912398: 100%|██████████| 918/918 [01:38<00:00,  9.36it/s]\n",
      "parse htmls 2017 season 4 stock 1323: 100%|██████████| 925/925 [02:31<00:00,  7.75it/s]\n"
     ]
    },
    {
     "name": "stdout",
     "output_type": "stream",
     "text": [
      "**WARRN: no data to parse\n",
      "save table to db\n",
      "   balance_sheet\n"
     ]
    },
    {
     "name": "stderr",
     "output_type": "stream",
     "text": [
      "/home/tiba/workspace/anaconda3/lib/python3.7/site-packages/pandas/core/generic.py:2130: UserWarning: The spaces in these column names will not be changed. In pandas versions < 0.14, spaces were converted to underscores.\n",
      "  dtype=dtype)\n"
     ]
    },
    {
     "name": "stdout",
     "output_type": "stream",
     "text": [
      "   cash_flows\n",
      "   income_sheet\n",
      "   income_sheet_cumulate\n",
      "crawling 2018-05-15\n",
      "http://mops.twse.com.tw/nas/t21/sii/t21sc03_107_2.html\n"
     ]
    },
    {
     "name": "stderr",
     "output_type": "stream",
     "text": [
      "parse htmls 2018 season 1 stock 912398: 100%|██████████| 918/918 [02:38<00:00,  5.77it/s]\n",
      "parse htmls 2018 season 1 stock 912398: 100%|██████████| 918/918 [02:35<00:00,  5.89it/s]\n",
      "parse htmls 2018 season 1 stock 912398: 100%|██████████| 918/918 [02:21<00:00,  6.50it/s]\n",
      "parse htmls 2018 season 1 stock 912398: 100%|██████████| 918/918 [02:33<00:00,  5.97it/s]\n",
      "parse htmls 2018 season 1 stock 912398: 100%|██████████| 918/918 [02:26<00:00,  6.26it/s]\n",
      "parse htmls 2018 season 1 stock 912398: 100%|██████████| 918/918 [02:23<00:00,  6.38it/s]\n",
      "parse htmls 2018 season 1 stock 1323: 100%|██████████| 925/925 [02:25<00:00,  8.02it/s]\n"
     ]
    },
    {
     "name": "stdout",
     "output_type": "stream",
     "text": [
      "save table to db\n",
      "   balance_sheet\n"
     ]
    },
    {
     "name": "stderr",
     "output_type": "stream",
     "text": [
      "/home/tiba/workspace/anaconda3/lib/python3.7/site-packages/pandas/core/generic.py:2130: UserWarning: The spaces in these column names will not be changed. In pandas versions < 0.14, spaces were converted to underscores.\n",
      "  dtype=dtype)\n"
     ]
    },
    {
     "name": "stdout",
     "output_type": "stream",
     "text": [
      "   cash_flows\n",
      "   income_sheet\n",
      "   income_sheet_cumulate\n",
      "crawling 2018-08-14\n",
      "http://mops.twse.com.tw/nas/t21/sii/t21sc03_107_5.html\n"
     ]
    },
    {
     "name": "stderr",
     "output_type": "stream",
     "text": [
      "parse htmls 2018 season 2 stock 912398: 100%|██████████| 919/919 [01:52<00:00,  8.15it/s]\n",
      "parse htmls 2018 season 2 stock 912398: 100%|██████████| 919/919 [01:49<00:00,  8.36it/s]\n",
      "parse htmls 2018 season 2 stock 912398: 100%|██████████| 919/919 [01:58<00:00,  7.73it/s]\n",
      "parse htmls 2018 season 2 stock 912398: 100%|██████████| 919/919 [01:53<00:00,  8.07it/s]\n",
      "parse htmls 2018 season 2 stock 912398: 100%|██████████| 919/919 [02:02<00:00,  7.53it/s]\n",
      "parse htmls 2018 season 2 stock 912398: 100%|██████████| 919/919 [02:08<00:00,  7.14it/s]\n",
      "parse htmls 2018 season 2 stock 8905: 100%|██████████| 1686/1686 [04:22<00:00,  7.84it/s]\n"
     ]
    },
    {
     "name": "stdout",
     "output_type": "stream",
     "text": [
      "save table to db\n",
      "   balance_sheet\n"
     ]
    },
    {
     "name": "stderr",
     "output_type": "stream",
     "text": [
      "/home/tiba/workspace/anaconda3/lib/python3.7/site-packages/pandas/core/generic.py:2130: UserWarning: The spaces in these column names will not be changed. In pandas versions < 0.14, spaces were converted to underscores.\n",
      "  dtype=dtype)\n"
     ]
    },
    {
     "name": "stdout",
     "output_type": "stream",
     "text": [
      "   cash_flows\n",
      "   income_sheet\n",
      "   income_sheet_cumulate\n",
      "crawling 2018-11-14\n",
      "http://mops.twse.com.tw/nas/t21/sii/t21sc03_107_8.html\n"
     ]
    },
    {
     "name": "stderr",
     "output_type": "stream",
     "text": [
      "parse htmls 2018 season 3 stock 912398: 100%|██████████| 921/921 [08:21<00:00,  1.84it/s]\n",
      "parse htmls 2018 season 3 stock 912398: 100%|██████████| 921/921 [08:15<00:00,  1.86it/s]\n",
      "parse htmls 2018 season 3 stock 912398: 100%|██████████| 921/921 [07:57<00:00,  1.93it/s]\n",
      "parse htmls 2018 season 3 stock 912398: 100%|██████████| 921/921 [08:21<00:00,  1.84it/s]\n",
      "parse htmls 2018 season 3 stock 912398: 100%|██████████| 921/921 [08:03<00:00,  1.90it/s]\n",
      "parse htmls 2018 season 3 stock 912398: 100%|██████████| 921/921 [07:55<00:00,  1.94it/s]\n",
      "parse htmls 2018 season 3 stock 1323: 100%|██████████| 921/921 [02:45<00:00,  7.04it/s]\n"
     ]
    },
    {
     "name": "stdout",
     "output_type": "stream",
     "text": [
      "save table to db\n",
      "   balance_sheet\n"
     ]
    },
    {
     "name": "stderr",
     "output_type": "stream",
     "text": [
      "/home/tiba/workspace/anaconda3/lib/python3.7/site-packages/pandas/core/generic.py:2130: UserWarning: The spaces in these column names will not be changed. In pandas versions < 0.14, spaces were converted to underscores.\n",
      "  dtype=dtype)\n"
     ]
    },
    {
     "name": "stdout",
     "output_type": "stream",
     "text": [
      "   cash_flows\n",
      "   income_sheet\n",
      "   income_sheet_cumulate\n",
      "\n"
     ]
    }
   ],
   "source": [
    "\"\"\"\n",
    "Ignore the pandas' will not sort the \"pd.append(df)\" warning\n",
    "\"\"\"\n",
    "import warnings\n",
    "warnings.simplefilter(action='ignore', category=FutureWarning)\n",
    "\n",
    "\n",
    "from finlab.crawler import (\n",
    "    widget, \n",
    "    \n",
    "    crawl_price, \n",
    "    crawl_monthly_report, \n",
    "    crawl_finance_statement_by_date,\n",
    "\n",
    "    date_range, month_range, season_range\n",
    ")\n",
    "\n",
    "import sqlite3\n",
    "import os\n",
    "conn = sqlite3.connect(os.path.join('data', \"data.db\"))\n",
    "\n",
    "widget(conn, 'price', crawl_price, date_range)\n",
    "widget(conn, 'monthly_revenue', crawl_monthly_report, month_range)\n",
    "widget(conn, 'finance_statement', crawl_finance_statement_by_date, season_range)"
   ]
  },
  {
   "cell_type": "markdown",
   "metadata": {},
   "source": [
    "# 時間區間範例："
   ]
  },
  {
   "cell_type": "code",
   "execution_count": 14,
   "metadata": {},
   "outputs": [
    {
     "name": "stdout",
     "output_type": "stream",
     "text": [
      "2010年抓取財報的時間點是\n"
     ]
    },
    {
     "data": {
      "text/plain": [
       "[datetime.date(2010, 3, 31),\n",
       " datetime.date(2010, 5, 15),\n",
       " datetime.date(2010, 8, 14),\n",
       " datetime.date(2010, 11, 14)]"
      ]
     },
     "execution_count": 14,
     "metadata": {},
     "output_type": "execute_result"
    }
   ],
   "source": [
    "print('2010年抓取財報的時間點是')\n",
    "season_range(datetime.date(2010,1,1), datetime.date(2011,1,1))"
   ]
  },
  {
   "cell_type": "markdown",
   "metadata": {},
   "source": [
    "# 每季財報 時間區間補充：\n",
    "\n",
    "關於每季財報爬取，選取的時間範圍要「包含」以下時段，就能夠爬到截止日期的財報囉！例如：\n",
    "\n",
    "* 2010年3月31號 --> 2009 第四季\n",
    "* 2010年5月15號 --> 2010 第一季\n",
    "* 2010年8月14號 --> 2010 第二季\n",
    "* 2010年11月14號 --> 2010 第三季\n",
    "\n",
    "所以假如我們想要抓2018年的第一季，就可以輸入一個時間範圍，例如：\n",
    "\n",
    "* 2018年5月01號 到 2018年5月31號\n",
    "\n",
    "因為這段時間有包含 2018年5月15號，所以就會下載 2018年第一季的財報喔！"
   ]
  },
  {
   "cell_type": "markdown",
   "metadata": {},
   "source": [
    "# 程式化更新資料"
   ]
  },
  {
   "cell_type": "code",
   "execution_count": 2,
   "metadata": {
    "collapsed": true
   },
   "outputs": [],
   "source": [
    "import datetime\n",
    "from finlab.crawler import update_table\n",
    "#update_table(conn, 'price', crawl_price, [datetime.date(2018,3,26)])\n",
    "#update_table(conn, 'monthly_revenue', crawl_monthly_report, [datetime.date(2018,3,1)])\n",
    "#update_table(conn, 'finance_statement', crawl_finance_statement_by_date, [datetime.date(2018,3,31)])"
   ]
  }
 ],
 "metadata": {
  "kernelspec": {
   "display_name": "Python 3",
   "language": "python",
   "name": "python3"
  },
  "language_info": {
   "codemirror_mode": {
    "name": "ipython",
    "version": 3
   },
   "file_extension": ".py",
   "mimetype": "text/x-python",
   "name": "python",
   "nbconvert_exporter": "python",
   "pygments_lexer": "ipython3",
   "version": "3.7.0"
  }
 },
 "nbformat": 4,
 "nbformat_minor": 2
}
